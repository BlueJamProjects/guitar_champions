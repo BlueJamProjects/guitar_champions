{
 "cells": [
  {
   "cell_type": "code",
   "execution_count": 9,
   "metadata": {},
   "outputs": [],
   "source": [
    "from pydub import AudioSegment \n",
    "  \n",
    "song1 = AudioSegment.from_wav(\"../audio/G3_30.wav\") \n",
    "song2 = AudioSegment.from_wav(\"../audio/F4_11.wav\")\n",
    "song3 = AudioSegment.from_wav(\"../audio/E4_25.wav\")\n",
    "song4 = AudioSegment.from_wav(\"../audio/D3_40.wav\")\n",
    "song5 = AudioSegment.from_wav(\"../audio/E2_60.wav\")\n",
    "\n",
    "songs = [song1, song2, song3, song4, song5]\n",
    "i = 0\n",
    "# ten_seconds = 10 * 1000\n",
    "for s in songs:\n",
    "    newSong = s[:500]\n",
    "    newName = \"../audio/song\" + str(i) + \".wav\"\n",
    "    newSong.export(newName, format=\"wav\") \n",
    "    i += 1\n",
    "\n",
    "    "
   ]
  },
  {
   "cell_type": "code",
   "execution_count": 15,
   "metadata": {},
   "outputs": [
    {
     "data": {
      "text/plain": [
       "<_io.BufferedRandom name='test1.wav'>"
      ]
     },
     "execution_count": 15,
     "metadata": {},
     "output_type": "execute_result"
    }
   ],
   "source": [
    "from pydub.playback import play\n",
    "\n",
    "song0 = AudioSegment.from_wav(\"../audio/song0.wav\") \n",
    "song1 = AudioSegment.from_wav(\"../audio/song1.wav\")\n",
    "song2 = AudioSegment.from_wav(\"../audio/song2.wav\")\n",
    "song3 = AudioSegment.from_wav(\"../audio/song3.wav\")\n",
    "song4 = AudioSegment.from_wav(\"../audio/song4.wav\")\n",
    "\n",
    "combined = song0 + song1 + song2 + song3 + song4\n",
    "combined.export(\"test1.wav\", format=\"wav\")\n"
   ]
  }
 ],
 "metadata": {
  "kernelspec": {
   "display_name": "Python 3",
   "language": "python",
   "name": "python3"
  },
  "language_info": {
   "codemirror_mode": {
    "name": "ipython",
    "version": 3
   },
   "file_extension": ".py",
   "mimetype": "text/x-python",
   "name": "python",
   "nbconvert_exporter": "python",
   "pygments_lexer": "ipython3",
   "version": "3.10.12"
  }
 },
 "nbformat": 4,
 "nbformat_minor": 2
}
