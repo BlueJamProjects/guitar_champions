{
 "cells": [
  {
   "cell_type": "code",
   "execution_count": 6,
   "metadata": {},
   "outputs": [],
   "source": [
    "from pydub import AudioSegment \n",
    "  \n",
    "song0 = AudioSegment.from_wav(\"../dataset/audio/E3_42.wav\")\n",
    "song1 = AudioSegment.from_wav(\"../dataset/audio/G3_30.wav\") \n",
    "song2 = AudioSegment.from_wav(\"../dataset/audio/F4_11.wav\")\n",
    "song3 = AudioSegment.from_wav(\"../dataset/audio/E4_25.wav\")\n",
    "song4 = AudioSegment.from_wav(\"../dataset/audio/D3_40.wav\")\n",
    "song5 = AudioSegment.from_wav(\"../dataset/audio/G4_13.wav\")\n",
    "song6 = AudioSegment.from_wav(\"../dataset/audio/G#4_14.wav\")\n",
    "\n",
    "songs = [song0, song1, song2]\n",
    "i = 0\n",
    "# 1 seconds = 1000\n",
    "for s in songs:\n",
    "    newSong = s[500:1500]\n",
    "    newName = \"../dataset/audio/test/song\" + str(i) + \".wav\"\n",
    "    newSong.export(newName, format=\"wav\") \n",
    "    i += 1\n",
    "\n",
    "    "
   ]
  },
  {
   "cell_type": "code",
   "execution_count": 7,
   "metadata": {},
   "outputs": [
    {
     "data": {
      "text/plain": [
       "<_io.BufferedRandom name='../audio/test2.wav'>"
      ]
     },
     "execution_count": 7,
     "metadata": {},
     "output_type": "execute_result"
    }
   ],
   "source": [
    "from pydub.playback import play\n",
    "\n",
    "song0 = AudioSegment.from_wav(\"../dataset/audio/song0.wav\") \n",
    "song1 = AudioSegment.from_wav(\"../dataset/audio/song1.wav\")\n",
    "song2 = AudioSegment.from_wav(\"../dataset/audio/song2.wav\")\n",
    "# song3 = AudioSegment.from_wav(\"../dataset/audio/song3.wav\")\n",
    "# song4 = AudioSegment.from_wav(\"../dataset/audio/song4.wav\")\n",
    "# song5 = AudioSegment.from_wav(\"../dataset/audio/song5.wav\")\n",
    "# song6 = AudioSegment.from_wav(\"../dataset/audio/song6.wav\")\n",
    "\n",
    "combined = song0 + song1 + song2 \n",
    "combined.export(\"../dataset/audio/test/test2.wav\", format=\"wav\")\n"
   ]
  },
  {
   "cell_type": "code",
   "execution_count": 8,
   "metadata": {},
   "outputs": [
    {
     "data": {
      "text/plain": [
       "<_io.BufferedRandom name='mixed1.wav'>"
      ]
     },
     "execution_count": 8,
     "metadata": {},
     "output_type": "execute_result"
    }
   ],
   "source": [
    "mixed = song0.overlay(song1) \n",
    "mixed.export(\"../dataset/audio/test/mixed1.wav\", format='wav') #export mixed  audio file\n"
   ]
  },
  {
   "cell_type": "code",
   "execution_count": 9,
   "metadata": {},
   "outputs": [
    {
     "name": "stdout",
     "output_type": "stream",
     "text": [
      "Duration: 2.50 seconds\n"
     ]
    }
   ],
   "source": [
    "import wave\n",
    "def get_duration_wave(file_path):\n",
    "   with wave.open(file_path, 'r') as audio_file:\n",
    "      frame_rate = audio_file.getframerate()\n",
    "      n_frames = audio_file.getnframes()\n",
    "      duration = n_frames / float(frame_rate)\n",
    "      return duration\n",
    "file_path = '../dataset/audio/test/test1.wav'\n",
    "duration = get_duration_wave(file_path)\n",
    "print(f\"Duration: {duration:.2f} seconds\")"
   ]
  }
 ],
 "metadata": {
  "kernelspec": {
   "display_name": "Python 3",
   "language": "python",
   "name": "python3"
  },
  "language_info": {
   "codemirror_mode": {
    "name": "ipython",
    "version": 3
   },
   "file_extension": ".py",
   "mimetype": "text/x-python",
   "name": "python",
   "nbconvert_exporter": "python",
   "pygments_lexer": "ipython3",
   "version": "3.10.12"
  }
 },
 "nbformat": 4,
 "nbformat_minor": 2
}
